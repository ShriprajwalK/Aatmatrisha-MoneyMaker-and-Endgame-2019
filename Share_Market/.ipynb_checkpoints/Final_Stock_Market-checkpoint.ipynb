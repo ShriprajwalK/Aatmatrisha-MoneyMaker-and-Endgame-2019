{
 "cells": [
  {
   "cell_type": "code",
   "execution_count": 1,
   "metadata": {},
   "outputs": [],
   "source": [
    "import pandas as pd\n",
    "import numpy as np"
   ]
  },
  {
   "cell_type": "code",
   "execution_count": 5,
   "metadata": {},
   "outputs": [],
   "source": [
    "data = pd.read_excel('Shares.xlsx')"
   ]
  },
  {
   "cell_type": "code",
   "execution_count": 9,
   "metadata": {},
   "outputs": [],
   "source": [
    "companies = list(data.columns)"
   ]
  },
  {
   "cell_type": "code",
   "execution_count": 19,
   "metadata": {},
   "outputs": [
    {
     "data": {
      "text/html": [
       "<div>\n",
       "<style scoped>\n",
       "    .dataframe tbody tr th:only-of-type {\n",
       "        vertical-align: middle;\n",
       "    }\n",
       "\n",
       "    .dataframe tbody tr th {\n",
       "        vertical-align: top;\n",
       "    }\n",
       "\n",
       "    .dataframe thead th {\n",
       "        text-align: right;\n",
       "    }\n",
       "</style>\n",
       "<table border=\"1\" class=\"dataframe\">\n",
       "  <thead>\n",
       "    <tr style=\"text-align: right;\">\n",
       "      <th></th>\n",
       "      <th>Tesla(Phase 2)</th>\n",
       "      <th>Tata Motors</th>\n",
       "      <th>Nissan</th>\n",
       "      <th>JPMorgan Chase</th>\n",
       "      <th>Bajaj Allianz</th>\n",
       "      <th>Sun Pharma</th>\n",
       "      <th>GSK-Pfizer</th>\n",
       "      <th>Nestle</th>\n",
       "      <th>BHEL</th>\n",
       "    </tr>\n",
       "  </thead>\n",
       "  <tbody>\n",
       "    <tr>\n",
       "      <th>Revenue</th>\n",
       "      <td>3.142211e+09</td>\n",
       "      <td>3.095497e+09</td>\n",
       "      <td>1.903234e+09</td>\n",
       "      <td>6.403422e+09</td>\n",
       "      <td>1.973342e+09</td>\n",
       "      <td>3.088235e+09</td>\n",
       "      <td>1.600000e+10</td>\n",
       "      <td>5.054422e+10</td>\n",
       "      <td>6.394443e+08</td>\n",
       "    </tr>\n",
       "    <tr>\n",
       "      <th>Shareholders Equity per Share</th>\n",
       "      <td>1.731010e+01</td>\n",
       "      <td>3.361500e+02</td>\n",
       "      <td>3.245160e+08</td>\n",
       "      <td>2.487760e+01</td>\n",
       "      <td>8.400100e+00</td>\n",
       "      <td>2.561000e+01</td>\n",
       "      <td>2.629000e+01</td>\n",
       "      <td>1.887600e+01</td>\n",
       "      <td>2.146050e+01</td>\n",
       "    </tr>\n",
       "    <tr>\n",
       "      <th>Average Stk price</th>\n",
       "      <td>3.000000e+02</td>\n",
       "      <td>2.752500e+02</td>\n",
       "      <td>2.897200e+02</td>\n",
       "      <td>1.901000e+02</td>\n",
       "      <td>2.425000e+02</td>\n",
       "      <td>1.852000e+02</td>\n",
       "      <td>2.257500e+02</td>\n",
       "      <td>2.104500e+02</td>\n",
       "      <td>1.429400e+02</td>\n",
       "    </tr>\n",
       "  </tbody>\n",
       "</table>\n",
       "</div>"
      ],
      "text/plain": [
       "                               Tesla(Phase 2)   Tata Motors        Nissan  \\\n",
       "Revenue                          3.142211e+09  3.095497e+09  1.903234e+09   \n",
       "Shareholders Equity per Share    1.731010e+01  3.361500e+02  3.245160e+08   \n",
       "Average Stk price                3.000000e+02  2.752500e+02  2.897200e+02   \n",
       "\n",
       "                               JPMorgan Chase  Bajaj Allianz    Sun Pharma  \\\n",
       "Revenue                          6.403422e+09   1.973342e+09  3.088235e+09   \n",
       "Shareholders Equity per Share    2.487760e+01   8.400100e+00  2.561000e+01   \n",
       "Average Stk price                1.901000e+02   2.425000e+02  1.852000e+02   \n",
       "\n",
       "                                GSK-Pfizer         Nestle          BHEL  \n",
       "Revenue                        1.600000e+10  5.054422e+10  6.394443e+08  \n",
       "Shareholders Equity per Share  2.629000e+01  1.887600e+01  2.146050e+01  \n",
       "Average Stk price              2.257500e+02  2.104500e+02  1.429400e+02  "
      ]
     },
     "execution_count": 19,
     "metadata": {},
     "output_type": "execute_result"
    }
   ],
   "source": [
    "data"
   ]
  },
  {
   "cell_type": "code",
   "execution_count": 60,
   "metadata": {},
   "outputs": [],
   "source": [
    "company_dict = dict()\n",
    "for i in companies:\n",
    "    company_dict.update({i:[data[i]['Average Stk price']]*4+[0,(1/(data[i]['Revenue']*data[i]['Shareholders Equity per Share']))]})"
   ]
  },
  {
   "cell_type": "code",
   "execution_count": 62,
   "metadata": {},
   "outputs": [],
   "source": [
    "l = list()\n",
    "for i in company_dict:\n",
    "    l.append(company_dict[i][5])"
   ]
  },
  {
   "cell_type": "code",
   "execution_count": 65,
   "metadata": {},
   "outputs": [],
   "source": [
    "for i in company_dict:\n",
    "    company_dict[i][5] /= max(l)"
   ]
  },
  {
   "cell_type": "code",
   "execution_count": 66,
   "metadata": {},
   "outputs": [
    {
     "data": {
      "text/plain": [
       "{'Tesla(Phase 2)': [300.0, 300.0, 300.0, 300.0, 0, 0.25229441412429754],\n",
       " 'Tata Motors': [275.25, 275.25, 275.25, 275.25, 0, 0.013188004658816786],\n",
       " 'Nissan': [289.72, 289.72, 289.72, 289.72, 0, 2.221847137189915e-08],\n",
       " 'JPMorgan Chase': [190.1, 190.1, 190.1, 190.1, 0, 0.08614339547417937],\n",
       " 'Bajaj Allianz': [242.5, 242.5, 242.5, 242.5, 0, 0.8278576099462539],\n",
       " 'Sun Pharma': [185.2, 185.2, 185.2, 185.2, 0, 0.17350923546340688],\n",
       " 'GSK-Pfizer ': [225.75, 225.75, 225.75, 225.75, 0, 0.03262360681654785],\n",
       " 'Nestle': [210.45, 210.45, 210.45, 210.45, 0, 0.014383384745028621],\n",
       " 'BHEL': [142.94, 142.94, 142.94, 142.94, 0, 1.0]}"
      ]
     },
     "execution_count": 66,
     "metadata": {},
     "output_type": "execute_result"
    }
   ],
   "source": [
    "company_dict"
   ]
  },
  {
   "cell_type": "code",
   "execution_count": null,
   "metadata": {},
   "outputs": [],
   "source": []
  }
 ],
 "metadata": {
  "kernelspec": {
   "display_name": "Python 3",
   "language": "python",
   "name": "python3"
  },
  "language_info": {
   "codemirror_mode": {
    "name": "ipython",
    "version": 3
   },
   "file_extension": ".py",
   "mimetype": "text/x-python",
   "name": "python",
   "nbconvert_exporter": "python",
   "pygments_lexer": "ipython3",
   "version": "3.7.1"
  }
 },
 "nbformat": 4,
 "nbformat_minor": 2
}
