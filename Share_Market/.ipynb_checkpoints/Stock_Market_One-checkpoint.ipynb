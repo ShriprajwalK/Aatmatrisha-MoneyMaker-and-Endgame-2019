{
 "cells": [
  {
   "cell_type": "code",
   "execution_count": 1,
   "metadata": {},
   "outputs": [],
   "source": [
    "import pandas as pd\n",
    "import random as rd\n",
    "import time"
   ]
  },
  {
   "cell_type": "code",
   "execution_count": 2,
   "metadata": {},
   "outputs": [],
   "source": [
    "financials = pd.read_excel('tata.xlsx')"
   ]
  },
  {
   "cell_type": "code",
   "execution_count": 3,
   "metadata": {},
   "outputs": [
    {
     "data": {
      "text/html": [
       "<div>\n",
       "<style scoped>\n",
       "    .dataframe tbody tr th:only-of-type {\n",
       "        vertical-align: middle;\n",
       "    }\n",
       "\n",
       "    .dataframe tbody tr th {\n",
       "        vertical-align: top;\n",
       "    }\n",
       "\n",
       "    .dataframe thead th {\n",
       "        text-align: right;\n",
       "    }\n",
       "</style>\n",
       "<table border=\"1\" class=\"dataframe\">\n",
       "  <thead>\n",
       "    <tr style=\"text-align: right;\">\n",
       "      <th></th>\n",
       "      <th>64009</th>\n",
       "      <th>63827</th>\n",
       "      <th>63735</th>\n",
       "      <th>63644</th>\n",
       "      <th>63554</th>\n",
       "      <th>63462</th>\n",
       "      <th>63370</th>\n",
       "      <th>63279</th>\n",
       "      <th>63189</th>\n",
       "      <th>63097</th>\n",
       "      <th>...</th>\n",
       "      <th>62914</th>\n",
       "      <th>62823</th>\n",
       "      <th>62731</th>\n",
       "      <th>62639</th>\n",
       "      <th>62548</th>\n",
       "      <th>62458</th>\n",
       "      <th>62366</th>\n",
       "      <th>62274</th>\n",
       "      <th>62183</th>\n",
       "      <th>62093</th>\n",
       "    </tr>\n",
       "  </thead>\n",
       "  <tbody>\n",
       "    <tr>\n",
       "      <th>Revenue</th>\n",
       "      <td>3.061269e+09</td>\n",
       "      <td>2.955081e+09</td>\n",
       "      <td>2.901874e+09</td>\n",
       "      <td>2.883125e+09</td>\n",
       "      <td>3.200213e+09</td>\n",
       "      <td>2.704471e+09</td>\n",
       "      <td>2.701678e+09</td>\n",
       "      <td>2.728943e+09</td>\n",
       "      <td>2.731099e+09</td>\n",
       "      <td>2.753412e+09</td>\n",
       "      <td>...</td>\n",
       "      <td>2.710057e+09</td>\n",
       "      <td>2.703742e+09</td>\n",
       "      <td>2.684386e+09</td>\n",
       "      <td>2.637547e+09</td>\n",
       "      <td>2.640577e+09</td>\n",
       "      <td>2.623661e+09</td>\n",
       "      <td>2.592857e+09</td>\n",
       "      <td>2.563026e+09</td>\n",
       "      <td>2.497946e+09</td>\n",
       "      <td>2.336623e+09</td>\n",
       "    </tr>\n",
       "    <tr>\n",
       "      <th>Revenue Growth</th>\n",
       "      <td>3.593393e-02</td>\n",
       "      <td>1.833528e-02</td>\n",
       "      <td>6.503236e-03</td>\n",
       "      <td>-9.908348e-02</td>\n",
       "      <td>1.833046e-01</td>\n",
       "      <td>1.033753e-03</td>\n",
       "      <td>-9.991035e-03</td>\n",
       "      <td>-7.893621e-04</td>\n",
       "      <td>-8.103790e-03</td>\n",
       "      <td>5.148012e-03</td>\n",
       "      <td>...</td>\n",
       "      <td>2.335653e-03</td>\n",
       "      <td>7.210736e-03</td>\n",
       "      <td>1.775847e-02</td>\n",
       "      <td>-1.147431e-03</td>\n",
       "      <td>6.447457e-03</td>\n",
       "      <td>1.188019e-02</td>\n",
       "      <td>1.163930e-02</td>\n",
       "      <td>2.605325e-02</td>\n",
       "      <td>6.904107e-02</td>\n",
       "      <td>2.140598e-02</td>\n",
       "    </tr>\n",
       "    <tr>\n",
       "      <th>Gross Profit</th>\n",
       "      <td>4.514517e+08</td>\n",
       "      <td>3.452640e+08</td>\n",
       "      <td>2.920573e+08</td>\n",
       "      <td>2.733077e+08</td>\n",
       "      <td>5.903959e+08</td>\n",
       "      <td>9.465400e+07</td>\n",
       "      <td>9.186113e+07</td>\n",
       "      <td>1.191261e+08</td>\n",
       "      <td>1.212819e+08</td>\n",
       "      <td>1.435950e+08</td>\n",
       "      <td>...</td>\n",
       "      <td>1.002403e+08</td>\n",
       "      <td>9.392531e+07</td>\n",
       "      <td>7.456891e+07</td>\n",
       "      <td>2.773012e+07</td>\n",
       "      <td>3.076000e+07</td>\n",
       "      <td>1.384406e+07</td>\n",
       "      <td>-1.695959e+07</td>\n",
       "      <td>-4.679142e+07</td>\n",
       "      <td>-1.118710e+08</td>\n",
       "      <td>-2.731940e+08</td>\n",
       "    </tr>\n",
       "    <tr>\n",
       "      <th>PE ratio</th>\n",
       "      <td>0.000000e+00</td>\n",
       "      <td>8.825397e+00</td>\n",
       "      <td>9.187500e+00</td>\n",
       "      <td>1.200000e+01</td>\n",
       "      <td>1.248387e+01</td>\n",
       "      <td>1.702290e+01</td>\n",
       "      <td>1.700000e+01</td>\n",
       "      <td>1.477419e+01</td>\n",
       "      <td>1.548276e+01</td>\n",
       "      <td>1.286111e+01</td>\n",
       "      <td>...</td>\n",
       "      <td>1.079070e+01</td>\n",
       "      <td>1.085714e+01</td>\n",
       "      <td>9.391304e+00</td>\n",
       "      <td>1.021951e+01</td>\n",
       "      <td>8.356164e+00</td>\n",
       "      <td>8.323917e+00</td>\n",
       "      <td>8.678161e+00</td>\n",
       "      <td>8.565815e+00</td>\n",
       "      <td>9.257732e+00</td>\n",
       "      <td>8.943249e+00</td>\n",
       "    </tr>\n",
       "    <tr>\n",
       "      <th>EPS</th>\n",
       "      <td>3.170000e+01</td>\n",
       "      <td>3.150000e+01</td>\n",
       "      <td>3.200000e+01</td>\n",
       "      <td>2.700000e+01</td>\n",
       "      <td>3.100000e+01</td>\n",
       "      <td>2.620000e+01</td>\n",
       "      <td>2.600000e+01</td>\n",
       "      <td>3.100000e+01</td>\n",
       "      <td>2.900000e+01</td>\n",
       "      <td>3.600000e+01</td>\n",
       "      <td>...</td>\n",
       "      <td>4.300000e+01</td>\n",
       "      <td>4.200000e+01</td>\n",
       "      <td>4.600000e+01</td>\n",
       "      <td>4.100000e+01</td>\n",
       "      <td>5.110000e+01</td>\n",
       "      <td>5.310000e+01</td>\n",
       "      <td>5.220000e+01</td>\n",
       "      <td>5.090000e+01</td>\n",
       "      <td>4.850000e+01</td>\n",
       "      <td>5.110000e+01</td>\n",
       "    </tr>\n",
       "  </tbody>\n",
       "</table>\n",
       "<p>5 rows × 21 columns</p>\n",
       "</div>"
      ],
      "text/plain": [
       "                       64009         63827         63735         63644  \\\n",
       "Revenue         3.061269e+09  2.955081e+09  2.901874e+09  2.883125e+09   \n",
       "Revenue Growth  3.593393e-02  1.833528e-02  6.503236e-03 -9.908348e-02   \n",
       "Gross Profit    4.514517e+08  3.452640e+08  2.920573e+08  2.733077e+08   \n",
       "PE ratio        0.000000e+00  8.825397e+00  9.187500e+00  1.200000e+01   \n",
       "EPS             3.170000e+01  3.150000e+01  3.200000e+01  2.700000e+01   \n",
       "\n",
       "                       63554         63462         63370         63279  \\\n",
       "Revenue         3.200213e+09  2.704471e+09  2.701678e+09  2.728943e+09   \n",
       "Revenue Growth  1.833046e-01  1.033753e-03 -9.991035e-03 -7.893621e-04   \n",
       "Gross Profit    5.903959e+08  9.465400e+07  9.186113e+07  1.191261e+08   \n",
       "PE ratio        1.248387e+01  1.702290e+01  1.700000e+01  1.477419e+01   \n",
       "EPS             3.100000e+01  2.620000e+01  2.600000e+01  3.100000e+01   \n",
       "\n",
       "                       63189         63097      ...              62914  \\\n",
       "Revenue         2.731099e+09  2.753412e+09      ...       2.710057e+09   \n",
       "Revenue Growth -8.103790e-03  5.148012e-03      ...       2.335653e-03   \n",
       "Gross Profit    1.212819e+08  1.435950e+08      ...       1.002403e+08   \n",
       "PE ratio        1.548276e+01  1.286111e+01      ...       1.079070e+01   \n",
       "EPS             2.900000e+01  3.600000e+01      ...       4.300000e+01   \n",
       "\n",
       "                       62823         62731         62639         62548  \\\n",
       "Revenue         2.703742e+09  2.684386e+09  2.637547e+09  2.640577e+09   \n",
       "Revenue Growth  7.210736e-03  1.775847e-02 -1.147431e-03  6.447457e-03   \n",
       "Gross Profit    9.392531e+07  7.456891e+07  2.773012e+07  3.076000e+07   \n",
       "PE ratio        1.085714e+01  9.391304e+00  1.021951e+01  8.356164e+00   \n",
       "EPS             4.200000e+01  4.600000e+01  4.100000e+01  5.110000e+01   \n",
       "\n",
       "                       62458         62366         62274         62183  \\\n",
       "Revenue         2.623661e+09  2.592857e+09  2.563026e+09  2.497946e+09   \n",
       "Revenue Growth  1.188019e-02  1.163930e-02  2.605325e-02  6.904107e-02   \n",
       "Gross Profit    1.384406e+07 -1.695959e+07 -4.679142e+07 -1.118710e+08   \n",
       "PE ratio        8.323917e+00  8.678161e+00  8.565815e+00  9.257732e+00   \n",
       "EPS             5.310000e+01  5.220000e+01  5.090000e+01  4.850000e+01   \n",
       "\n",
       "                       62093  \n",
       "Revenue         2.336623e+09  \n",
       "Revenue Growth  2.140598e-02  \n",
       "Gross Profit   -2.731940e+08  \n",
       "PE ratio        8.943249e+00  \n",
       "EPS             5.110000e+01  \n",
       "\n",
       "[5 rows x 21 columns]"
      ]
     },
     "execution_count": 3,
     "metadata": {},
     "output_type": "execute_result"
    }
   ],
   "source": [
    "financials.head()"
   ]
  },
  {
   "cell_type": "code",
   "execution_count": 4,
   "metadata": {},
   "outputs": [],
   "source": [
    "financials = financials.reset_index().rename(columns={'index':'Factor'})"
   ]
  },
  {
   "cell_type": "code",
   "execution_count": 5,
   "metadata": {},
   "outputs": [],
   "source": [
    "financials = financials.T.rename(columns={i[0]:i[1] for i in list(zip(list(range(financials.T.shape[1])),financials['Factor']))}).drop('Factor')"
   ]
  },
  {
   "cell_type": "code",
   "execution_count": 6,
   "metadata": {},
   "outputs": [],
   "source": [
    "financials = financials.astype('float64')"
   ]
  },
  {
   "cell_type": "code",
   "execution_count": 7,
   "metadata": {},
   "outputs": [],
   "source": [
    "train = financials[1:16]"
   ]
  },
  {
   "cell_type": "code",
   "execution_count": 8,
   "metadata": {},
   "outputs": [],
   "source": [
    "test = financials[16:21]"
   ]
  },
  {
   "cell_type": "code",
   "execution_count": 9,
   "metadata": {},
   "outputs": [
    {
     "name": "stdout",
     "output_type": "stream",
     "text": [
      "0.9900016713408273\n"
     ]
    }
   ],
   "source": [
    "from sklearn.model_selection import train_test_split\n",
    "X = train.drop('Average Stk price',axis=1)\n",
    "y = train['Average Stk price']\n",
    "X_train, X_test, y_train, y_test = train_test_split(X, y, test_size=0.2, random_state=300)\n",
    "from xgboost import XGBRegressor\n",
    "model = XGBRegressor()\n",
    "model.fit(X_train,y_train)\n",
    "pred = model.predict(X_test)\n",
    "from sklearn.metrics import r2_score\n",
    "print(r2_score(y_test,pred))"
   ]
  },
  {
   "cell_type": "code",
   "execution_count": 10,
   "metadata": {},
   "outputs": [
    {
     "data": {
      "text/html": [
       "<div>\n",
       "<style scoped>\n",
       "    .dataframe tbody tr th:only-of-type {\n",
       "        vertical-align: middle;\n",
       "    }\n",
       "\n",
       "    .dataframe tbody tr th {\n",
       "        vertical-align: top;\n",
       "    }\n",
       "\n",
       "    .dataframe thead th {\n",
       "        text-align: right;\n",
       "    }\n",
       "</style>\n",
       "<table border=\"1\" class=\"dataframe\">\n",
       "  <thead>\n",
       "    <tr style=\"text-align: right;\">\n",
       "      <th></th>\n",
       "      <th>0</th>\n",
       "    </tr>\n",
       "  </thead>\n",
       "  <tbody>\n",
       "    <tr>\n",
       "      <th>Revenue</th>\n",
       "      <td>0.443787</td>\n",
       "    </tr>\n",
       "    <tr>\n",
       "      <th>Revenue Growth</th>\n",
       "      <td>0.023669</td>\n",
       "    </tr>\n",
       "    <tr>\n",
       "      <th>Gross Profit</th>\n",
       "      <td>0.000000</td>\n",
       "    </tr>\n",
       "    <tr>\n",
       "      <th>PE ratio</th>\n",
       "      <td>0.136095</td>\n",
       "    </tr>\n",
       "    <tr>\n",
       "      <th>EPS</th>\n",
       "      <td>0.088757</td>\n",
       "    </tr>\n",
       "    <tr>\n",
       "      <th>Shareholders Equity per Share</th>\n",
       "      <td>0.263314</td>\n",
       "    </tr>\n",
       "    <tr>\n",
       "      <th>Net Income</th>\n",
       "      <td>0.038462</td>\n",
       "    </tr>\n",
       "    <tr>\n",
       "      <th>ROE</th>\n",
       "      <td>0.005917</td>\n",
       "    </tr>\n",
       "    <tr>\n",
       "      <th>Preferred Dividends</th>\n",
       "      <td>0.000000</td>\n",
       "    </tr>\n",
       "  </tbody>\n",
       "</table>\n",
       "</div>"
      ],
      "text/plain": [
       "                                      0\n",
       "Revenue                        0.443787\n",
       "Revenue Growth                 0.023669\n",
       "Gross Profit                   0.000000\n",
       "PE ratio                       0.136095\n",
       "EPS                            0.088757\n",
       "Shareholders Equity per Share  0.263314\n",
       "Net Income                     0.038462\n",
       "ROE                            0.005917\n",
       "Preferred Dividends            0.000000"
      ]
     },
     "execution_count": 10,
     "metadata": {},
     "output_type": "execute_result"
    }
   ],
   "source": [
    "pd.DataFrame(model.feature_importances_,X.columns)"
   ]
  },
  {
   "cell_type": "code",
   "execution_count": 11,
   "metadata": {},
   "outputs": [],
   "source": [
    "financials['Average Stk price'] = financials['Average Stk price'].fillna(list(model.predict(financials[0:1].drop('Average Stk price',axis=1)))[0])"
   ]
  },
  {
   "cell_type": "code",
   "execution_count": 12,
   "metadata": {},
   "outputs": [
    {
     "data": {
      "text/html": [
       "<div>\n",
       "<style scoped>\n",
       "    .dataframe tbody tr th:only-of-type {\n",
       "        vertical-align: middle;\n",
       "    }\n",
       "\n",
       "    .dataframe tbody tr th {\n",
       "        vertical-align: top;\n",
       "    }\n",
       "\n",
       "    .dataframe thead th {\n",
       "        text-align: right;\n",
       "    }\n",
       "</style>\n",
       "<table border=\"1\" class=\"dataframe\">\n",
       "  <thead>\n",
       "    <tr style=\"text-align: right;\">\n",
       "      <th></th>\n",
       "      <th>Revenue</th>\n",
       "      <th>Revenue Growth</th>\n",
       "      <th>Gross Profit</th>\n",
       "      <th>PE ratio</th>\n",
       "      <th>EPS</th>\n",
       "      <th>Shareholders Equity per Share</th>\n",
       "      <th>Net Income</th>\n",
       "      <th>ROE</th>\n",
       "      <th>Preferred Dividends</th>\n",
       "      <th>Average Stk price</th>\n",
       "    </tr>\n",
       "  </thead>\n",
       "  <tbody>\n",
       "    <tr>\n",
       "      <th>64009</th>\n",
       "      <td>3.061269e+09</td>\n",
       "      <td>0.035934</td>\n",
       "      <td>451451673.0</td>\n",
       "      <td>0.000000</td>\n",
       "      <td>31.7</td>\n",
       "      <td>342.9</td>\n",
       "      <td>3.064924e+08</td>\n",
       "      <td>8.86</td>\n",
       "      <td>0.0</td>\n",
       "      <td>288.417969</td>\n",
       "    </tr>\n",
       "    <tr>\n",
       "      <th>63827</th>\n",
       "      <td>2.955081e+09</td>\n",
       "      <td>0.018335</td>\n",
       "      <td>345264000.0</td>\n",
       "      <td>8.825397</td>\n",
       "      <td>31.5</td>\n",
       "      <td>330.4</td>\n",
       "      <td>2.946192e+09</td>\n",
       "      <td>9.50</td>\n",
       "      <td>0.0</td>\n",
       "      <td>278.000000</td>\n",
       "    </tr>\n",
       "    <tr>\n",
       "      <th>63735</th>\n",
       "      <td>2.901874e+09</td>\n",
       "      <td>0.006503</td>\n",
       "      <td>292057320.0</td>\n",
       "      <td>9.187500</td>\n",
       "      <td>32.0</td>\n",
       "      <td>345.0</td>\n",
       "      <td>2.735662e+09</td>\n",
       "      <td>10.20</td>\n",
       "      <td>0.0</td>\n",
       "      <td>294.000000</td>\n",
       "    </tr>\n",
       "    <tr>\n",
       "      <th>63644</th>\n",
       "      <td>2.883125e+09</td>\n",
       "      <td>-0.099083</td>\n",
       "      <td>273307680.0</td>\n",
       "      <td>12.000000</td>\n",
       "      <td>27.0</td>\n",
       "      <td>306.0</td>\n",
       "      <td>2.702199e+09</td>\n",
       "      <td>12.70</td>\n",
       "      <td>0.0</td>\n",
       "      <td>324.000000</td>\n",
       "    </tr>\n",
       "    <tr>\n",
       "      <th>63554</th>\n",
       "      <td>3.200213e+09</td>\n",
       "      <td>0.183305</td>\n",
       "      <td>590395910.0</td>\n",
       "      <td>12.483871</td>\n",
       "      <td>31.0</td>\n",
       "      <td>247.0</td>\n",
       "      <td>2.703282e+09</td>\n",
       "      <td>12.10</td>\n",
       "      <td>0.0</td>\n",
       "      <td>387.000000</td>\n",
       "    </tr>\n",
       "  </tbody>\n",
       "</table>\n",
       "</div>"
      ],
      "text/plain": [
       "            Revenue  Revenue Growth  Gross Profit   PE ratio   EPS  \\\n",
       "64009  3.061269e+09        0.035934   451451673.0   0.000000  31.7   \n",
       "63827  2.955081e+09        0.018335   345264000.0   8.825397  31.5   \n",
       "63735  2.901874e+09        0.006503   292057320.0   9.187500  32.0   \n",
       "63644  2.883125e+09       -0.099083   273307680.0  12.000000  27.0   \n",
       "63554  3.200213e+09        0.183305   590395910.0  12.483871  31.0   \n",
       "\n",
       "       Shareholders Equity per Share    Net Income    ROE  \\\n",
       "64009                          342.9  3.064924e+08   8.86   \n",
       "63827                          330.4  2.946192e+09   9.50   \n",
       "63735                          345.0  2.735662e+09  10.20   \n",
       "63644                          306.0  2.702199e+09  12.70   \n",
       "63554                          247.0  2.703282e+09  12.10   \n",
       "\n",
       "       Preferred Dividends  Average Stk price  \n",
       "64009                  0.0         288.417969  \n",
       "63827                  0.0         278.000000  \n",
       "63735                  0.0         294.000000  \n",
       "63644                  0.0         324.000000  \n",
       "63554                  0.0         387.000000  "
      ]
     },
     "execution_count": 12,
     "metadata": {},
     "output_type": "execute_result"
    }
   ],
   "source": [
    "financials.head()"
   ]
  },
  {
   "cell_type": "code",
   "execution_count": 13,
   "metadata": {},
   "outputs": [],
   "source": [
    "starting_value = financials[0:1]['Average Stk price']"
   ]
  },
  {
   "cell_type": "code",
   "execution_count": 14,
   "metadata": {},
   "outputs": [
    {
     "data": {
      "text/plain": [
       "64009    288.417969\n",
       "Name: Average Stk price, dtype: float64"
      ]
     },
     "execution_count": 14,
     "metadata": {},
     "output_type": "execute_result"
    }
   ],
   "source": [
    "starting_value"
   ]
  },
  {
   "cell_type": "code",
   "execution_count": 15,
   "metadata": {},
   "outputs": [],
   "source": [
    "import decimal"
   ]
  },
  {
   "cell_type": "code",
   "execution_count": 16,
   "metadata": {},
   "outputs": [],
   "source": [
    "extent_variation = [25]*10+[50]*7+[100]*5+[150]*4+[200]*3\n",
    "time_variation = [2.5,2.5,3,3,3,3,3,4,4,4,4]\n",
    "start_fluc = float(decimal.Decimal(rd.randrange((int(starting_value)*100)-rd.sample(extent_variation,1)[0], (int(starting_value)*100)+rd.sample(extent_variation,1)[0])/100))"
   ]
  },
  {
   "cell_type": "code",
   "execution_count": 17,
   "metadata": {},
   "outputs": [],
   "source": [
    "def stock_time_value():\n",
    "    return (rd.sample(time_variation,1)[0],float(decimal.Decimal(rd.randrange((int(start_fluc)*100)-(3*rd.sample(extent_variation,1)[0]), (int(start_fluc)*100)+(5*rd.sample(extent_variation,1)[0]))/100)))"
   ]
  },
  {
   "cell_type": "code",
   "execution_count": 18,
   "metadata": {
    "scrolled": true
   },
   "outputs": [
    {
     "name": "stdout",
     "output_type": "stream",
     "text": [
      "Continuing\n",
      "286.86    -1.56    286.86    288.42\n",
      "Continuing\n",
      "Continuing\n",
      "Continuing\n",
      "287.05    -1.37    286.86    288.42\n",
      "Continuing\n",
      "Continuing\n"
     ]
    },
    {
     "ename": "KeyboardInterrupt",
     "evalue": "",
     "output_type": "error",
     "traceback": [
      "\u001b[0;31m---------------------------------------------------------------------------\u001b[0m",
      "\u001b[0;31mKeyboardInterrupt\u001b[0m                         Traceback (most recent call last)",
      "\u001b[0;32m<ipython-input-18-e04356579890>\u001b[0m in \u001b[0;36m<module>\u001b[0;34m\u001b[0m\n\u001b[1;32m      2\u001b[0m \u001b[0mdays_low\u001b[0m \u001b[0;34m=\u001b[0m \u001b[0mround\u001b[0m\u001b[0;34m(\u001b[0m\u001b[0mfloat\u001b[0m\u001b[0;34m(\u001b[0m\u001b[0mstarting_value\u001b[0m\u001b[0;34m)\u001b[0m\u001b[0;34m,\u001b[0m\u001b[0;36m2\u001b[0m\u001b[0;34m)\u001b[0m\u001b[0;34m\u001b[0m\u001b[0;34m\u001b[0m\u001b[0m\n\u001b[1;32m      3\u001b[0m \u001b[0;32mwhile\u001b[0m \u001b[0;32mTrue\u001b[0m\u001b[0;34m:\u001b[0m\u001b[0;34m\u001b[0m\u001b[0;34m\u001b[0m\u001b[0m\n\u001b[0;32m----> 4\u001b[0;31m     \u001b[0mtime\u001b[0m\u001b[0;34m.\u001b[0m\u001b[0msleep\u001b[0m\u001b[0;34m(\u001b[0m\u001b[0mstock_time_value\u001b[0m\u001b[0;34m(\u001b[0m\u001b[0;34m)\u001b[0m\u001b[0;34m[\u001b[0m\u001b[0;36m0\u001b[0m\u001b[0;34m]\u001b[0m\u001b[0;34m)\u001b[0m\u001b[0;34m\u001b[0m\u001b[0;34m\u001b[0m\u001b[0m\n\u001b[0m\u001b[1;32m      5\u001b[0m     \u001b[0mpassing_values\u001b[0m \u001b[0;34m=\u001b[0m \u001b[0;34m[\u001b[0m\u001b[0;36m0\u001b[0m\u001b[0;34m]\u001b[0m\u001b[0;34m*\u001b[0m\u001b[0;36m10\u001b[0m\u001b[0;34m+\u001b[0m\u001b[0;34m[\u001b[0m\u001b[0;36m1\u001b[0m\u001b[0;34m]\u001b[0m\u001b[0;34m*\u001b[0m\u001b[0;36m35\u001b[0m\u001b[0;34m\u001b[0m\u001b[0;34m\u001b[0m\u001b[0m\n\u001b[1;32m      6\u001b[0m     \u001b[0;32mif\u001b[0m \u001b[0mrd\u001b[0m\u001b[0;34m.\u001b[0m\u001b[0msample\u001b[0m\u001b[0;34m(\u001b[0m\u001b[0mpassing_values\u001b[0m\u001b[0;34m,\u001b[0m\u001b[0;36m1\u001b[0m\u001b[0;34m)\u001b[0m\u001b[0;34m[\u001b[0m\u001b[0;36m0\u001b[0m\u001b[0;34m]\u001b[0m \u001b[0;34m==\u001b[0m \u001b[0;36m0\u001b[0m\u001b[0;34m:\u001b[0m\u001b[0;34m\u001b[0m\u001b[0;34m\u001b[0m\u001b[0m\n",
      "\u001b[0;31mKeyboardInterrupt\u001b[0m: "
     ]
    }
   ],
   "source": [
    "days_high = round(float(starting_value),2)\n",
    "days_low = round(float(starting_value),2)\n",
    "while True:\n",
    "    time.sleep(stock_time_value()[0])\n",
    "    passing_values = [0]*10+[1]*35\n",
    "    if rd.sample(passing_values,1)[0] == 0:\n",
    "        print('Continuing')\n",
    "        continue\n",
    "    else:\n",
    "        stock_val = stock_time_value()[1]\n",
    "        if stock_val>days_high:days_high = stock_val\n",
    "        elif stock_val<days_low:days_low = stock_val\n",
    "        stock_diff = round(stock_val - float(starting_value),2)\n",
    "        print(stock_val,\"  \",stock_diff,\"  \",days_low,\"  \",days_high)\n",
    "    time.sleep(stock_time_value()[0])"
   ]
  },
  {
   "cell_type": "code",
   "execution_count": null,
   "metadata": {},
   "outputs": [],
   "source": []
  }
 ],
 "metadata": {
  "kernelspec": {
   "display_name": "Python 3",
   "language": "python",
   "name": "python3"
  },
  "language_info": {
   "codemirror_mode": {
    "name": "ipython",
    "version": 3
   },
   "file_extension": ".py",
   "mimetype": "text/x-python",
   "name": "python",
   "nbconvert_exporter": "python",
   "pygments_lexer": "ipython3",
   "version": "3.7.1"
  }
 },
 "nbformat": 4,
 "nbformat_minor": 2
}
