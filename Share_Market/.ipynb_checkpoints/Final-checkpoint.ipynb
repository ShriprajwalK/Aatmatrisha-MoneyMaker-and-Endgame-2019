{
 "cells": [
  {
   "cell_type": "code",
   "execution_count": 2,
   "metadata": {},
   "outputs": [],
   "source": [
    "import pandas as pd\n",
    "import numpy as np"
   ]
  },
  {
   "cell_type": "code",
   "execution_count": 3,
   "metadata": {},
   "outputs": [],
   "source": [
    "data = pd.read_excel('Shares.xlsx')"
   ]
  },
  {
   "cell_type": "code",
   "execution_count": 4,
   "metadata": {},
   "outputs": [],
   "source": [
    "companies = list(data.columns)"
   ]
  },
  {
   "cell_type": "code",
   "execution_count": 5,
   "metadata": {},
   "outputs": [
    {
     "data": {
      "text/html": [
       "<div>\n",
       "<style scoped>\n",
       "    .dataframe tbody tr th:only-of-type {\n",
       "        vertical-align: middle;\n",
       "    }\n",
       "\n",
       "    .dataframe tbody tr th {\n",
       "        vertical-align: top;\n",
       "    }\n",
       "\n",
       "    .dataframe thead th {\n",
       "        text-align: right;\n",
       "    }\n",
       "</style>\n",
       "<table border=\"1\" class=\"dataframe\">\n",
       "  <thead>\n",
       "    <tr style=\"text-align: right;\">\n",
       "      <th></th>\n",
       "      <th>Tesla(Phase 2)</th>\n",
       "      <th>Tata Motors</th>\n",
       "      <th>Nissan</th>\n",
       "      <th>JPMorgan Chase</th>\n",
       "      <th>Bajaj Allianz</th>\n",
       "      <th>Sun Pharma</th>\n",
       "      <th>GSK-Pfizer</th>\n",
       "      <th>Nestle</th>\n",
       "      <th>BHEL</th>\n",
       "    </tr>\n",
       "  </thead>\n",
       "  <tbody>\n",
       "    <tr>\n",
       "      <th>Revenue</th>\n",
       "      <td>3.142211e+09</td>\n",
       "      <td>3.095497e+09</td>\n",
       "      <td>1.903234e+09</td>\n",
       "      <td>6.403422e+09</td>\n",
       "      <td>1.973342e+09</td>\n",
       "      <td>3.088235e+09</td>\n",
       "      <td>1.600000e+10</td>\n",
       "      <td>5.054422e+10</td>\n",
       "      <td>6.394443e+08</td>\n",
       "    </tr>\n",
       "    <tr>\n",
       "      <th>Shareholders Equity per Share</th>\n",
       "      <td>1.731010e+01</td>\n",
       "      <td>3.361500e+02</td>\n",
       "      <td>3.245160e+08</td>\n",
       "      <td>2.487760e+01</td>\n",
       "      <td>8.400100e+00</td>\n",
       "      <td>2.561000e+01</td>\n",
       "      <td>2.629000e+01</td>\n",
       "      <td>1.887600e+01</td>\n",
       "      <td>2.146050e+01</td>\n",
       "    </tr>\n",
       "    <tr>\n",
       "      <th>Average Stk price</th>\n",
       "      <td>3.000000e+02</td>\n",
       "      <td>2.752500e+02</td>\n",
       "      <td>2.897200e+02</td>\n",
       "      <td>1.901000e+02</td>\n",
       "      <td>2.425000e+02</td>\n",
       "      <td>1.852000e+02</td>\n",
       "      <td>2.257500e+02</td>\n",
       "      <td>2.104500e+02</td>\n",
       "      <td>1.429400e+02</td>\n",
       "    </tr>\n",
       "  </tbody>\n",
       "</table>\n",
       "</div>"
      ],
      "text/plain": [
       "                               Tesla(Phase 2)   Tata Motors        Nissan  \\\n",
       "Revenue                          3.142211e+09  3.095497e+09  1.903234e+09   \n",
       "Shareholders Equity per Share    1.731010e+01  3.361500e+02  3.245160e+08   \n",
       "Average Stk price                3.000000e+02  2.752500e+02  2.897200e+02   \n",
       "\n",
       "                               JPMorgan Chase  Bajaj Allianz    Sun Pharma  \\\n",
       "Revenue                          6.403422e+09   1.973342e+09  3.088235e+09   \n",
       "Shareholders Equity per Share    2.487760e+01   8.400100e+00  2.561000e+01   \n",
       "Average Stk price                1.901000e+02   2.425000e+02  1.852000e+02   \n",
       "\n",
       "                                GSK-Pfizer         Nestle          BHEL  \n",
       "Revenue                        1.600000e+10  5.054422e+10  6.394443e+08  \n",
       "Shareholders Equity per Share  2.629000e+01  1.887600e+01  2.146050e+01  \n",
       "Average Stk price              2.257500e+02  2.104500e+02  1.429400e+02  "
      ]
     },
     "execution_count": 5,
     "metadata": {},
     "output_type": "execute_result"
    }
   ],
   "source": [
    "data"
   ]
  },
  {
   "cell_type": "code",
   "execution_count": 6,
   "metadata": {},
   "outputs": [],
   "source": [
    "company_dict = dict()\n",
    "for i in companies:\n",
    "    company_dict.update({i:[data[i]['Average Stk price']]*4+[0,(1/(data[i]['Revenue']*data[i]['Shareholders Equity per Share']))]})"
   ]
  },
  {
   "cell_type": "code",
   "execution_count": 7,
   "metadata": {},
   "outputs": [
    {
     "data": {
      "text/plain": [
       "{'Tesla(Phase 2)': [300.0, 300.0, 300.0, 300.0, 0, 1.8385061144801513e-11],\n",
       " 'Tata Motors': [275.25, 275.25, 275.25, 275.25, 0, 9.610290932197185e-13],\n",
       " 'Nissan': [289.72, 289.72, 289.72, 289.72, 0, 1.6190923454814924e-18],\n",
       " 'JPMorgan Chase': [190.1, 190.1, 190.1, 190.1, 0, 6.277394600711774e-12],\n",
       " 'Bajaj Allianz': [242.5, 242.5, 242.5, 242.5, 0, 6.032718889508429e-11],\n",
       " 'Sun Pharma': [185.2, 185.2, 185.2, 185.2, 0, 1.2643870512372489e-11],\n",
       " 'GSK-Pfizer ': [225.75, 225.75, 225.75, 225.75, 0, 2.37732970889597e-12],\n",
       " 'Nestle': [210.45, 210.45, 210.45, 210.45, 0, 1.048138179849973e-12],\n",
       " 'BHEL': [142.94, 142.94, 142.94, 142.94, 0, 7.287145539315734e-11]}"
      ]
     },
     "execution_count": 7,
     "metadata": {},
     "output_type": "execute_result"
    }
   ],
   "source": [
    "company_dict"
   ]
  },
  {
   "cell_type": "code",
   "execution_count": 8,
   "metadata": {},
   "outputs": [],
   "source": [
    "l = list()\n",
    "for i in company_dict:\n",
    "    l.append(company_dict[i][5])   "
   ]
  },
  {
   "cell_type": "code",
   "execution_count": 9,
   "metadata": {},
   "outputs": [],
   "source": [
    "for i in company_dict:\n",
    "    company_dict[i][5] = (company_dict[i][5]-min(l))/(max(l)-min(l))"
   ]
  },
  {
   "cell_type": "code",
   "execution_count": 10,
   "metadata": {},
   "outputs": [
    {
     "data": {
      "text/plain": [
       "{'Tesla(Phase 2)': [300.0, 300.0, 300.0, 300.0, 0, 0.2522943975114221],\n",
       " 'Tata Motors': [275.25, 275.25, 275.25, 275.25, 0, 0.013187982733362231],\n",
       " 'Nissan': [289.72, 289.72, 289.72, 289.72, 0, 0.0],\n",
       " 'JPMorgan Chase': [190.1, 190.1, 190.1, 190.1, 0, 0.08614337516968212],\n",
       " 'Bajaj Allianz': [242.5, 242.5, 242.5, 242.5, 0, 0.827857606121513],\n",
       " 'Sun Pharma': [185.2, 185.2, 185.2, 185.2, 0, 0.1735092171000451],\n",
       " 'GSK-Pfizer ': [225.75, 225.75, 225.75, 225.75, 0, 0.03262358532292267],\n",
       " 'Nestle': [210.45, 210.45, 210.45, 210.45, 0, 0.014383362846133587],\n",
       " 'BHEL': [142.94, 142.94, 142.94, 142.94, 0, 1.0]}"
      ]
     },
     "execution_count": 10,
     "metadata": {},
     "output_type": "execute_result"
    }
   ],
   "source": [
    "# Format is -----> Key :[Current Value, Start Value, Day Low, Day High, Percentage Change, VF]\n",
    "# Day Low, Day High, Percentage Change do not participate in any kind of calculation pertaining to randomization\n",
    "company_dict"
   ]
  },
  {
   "cell_type": "code",
   "execution_count": 11,
   "metadata": {},
   "outputs": [],
   "source": [
    "name = []\n",
    "current=[]\n",
    "pct_change=[]\n",
    "\n",
    "def VF(company_Parameters):\n",
    "    for i in company_Parameters:\n",
    "        name.append(i)\n",
    "        current.append(company_Parameters[i][0])\n",
    "        pct_change.append(company_Parameters[i][4])"
   ]
  },
  {
   "cell_type": "code",
   "execution_count": 12,
   "metadata": {},
   "outputs": [],
   "source": [
    "VF(company_dict)"
   ]
  },
  {
   "cell_type": "code",
   "execution_count": 15,
   "metadata": {},
   "outputs": [
    {
     "name": "stdout",
     "output_type": "stream",
     "text": [
      "[['Tesla(Phase 2)', 293.4895063873802, -4.967827362047169], ['Tata Motors', 276.1472312719252, 0.32491047177716575], ['Nissan', 277.7330346801277, -4.316002715945567], ['JPMorgan Chase', 185.59307066118467, -2.428393109052597], ['Bajaj Allianz', 249.8351073212005, 2.935979414522442], ['Sun Pharma', 183.44940771354354, -0.9542643436549026], ['GSK-Pfizer ', 217.38996908499087, -3.8456378416157246], ['Nestle', 215.09065738949576, 2.1575355460894157], ['BHEL', 140.20812655822826, -1.9484415838315876]]\n",
      "\n",
      "\n",
      "[['Tesla(Phase 2)', 282.91589348519165, -3.7373697079842465], ['Tata Motors', 284.1817771526761, 2.827255836476226], ['Nissan', 269.99662680628154, -2.8653720475540934], ['JPMorgan Chase', 180.39341126223547, -2.8823998407516775], ['Bajaj Allianz', 255.07028479130594, 2.05244506406882], ['Sun Pharma', 177.33044910365044, -3.4505966915566426], ['GSK-Pfizer ', 222.02055736067763, 2.085657441245074], ['Nestle', 215.6385656601186, 0.25408640098562857], ['BHEL', 136.05833884394656, -3.0500061587855636]]\n",
      "\n",
      "\n"
     ]
    },
    {
     "ename": "KeyboardInterrupt",
     "evalue": "",
     "output_type": "error",
     "traceback": [
      "\u001b[0;31m---------------------------------------------------------------------------\u001b[0m",
      "\u001b[0;31mKeyboardInterrupt\u001b[0m                         Traceback (most recent call last)",
      "\u001b[0;32m<ipython-input-15-a084a0509c7f>\u001b[0m in \u001b[0;36m<module>\u001b[0;34m\u001b[0m\n\u001b[1;32m      5\u001b[0m \u001b[0;32mwhile\u001b[0m \u001b[0;32mTrue\u001b[0m\u001b[0;34m:\u001b[0m\u001b[0;34m\u001b[0m\u001b[0;34m\u001b[0m\u001b[0m\n\u001b[1;32m      6\u001b[0m     \u001b[0mfrontEnd_return\u001b[0m\u001b[0;34m=\u001b[0m\u001b[0;34m[\u001b[0m\u001b[0;34m]\u001b[0m\u001b[0;34m\u001b[0m\u001b[0;34m\u001b[0m\u001b[0m\n\u001b[0;32m----> 7\u001b[0;31m     \u001b[0mtime\u001b[0m\u001b[0;34m.\u001b[0m\u001b[0msleep\u001b[0m\u001b[0;34m(\u001b[0m\u001b[0;36m5\u001b[0m\u001b[0;34m)\u001b[0m\u001b[0;34m\u001b[0m\u001b[0;34m\u001b[0m\u001b[0m\n\u001b[0m\u001b[1;32m      8\u001b[0m     \u001b[0;32mfor\u001b[0m \u001b[0mi\u001b[0m \u001b[0;32min\u001b[0m \u001b[0mrange\u001b[0m\u001b[0;34m(\u001b[0m\u001b[0;36m9\u001b[0m\u001b[0;34m)\u001b[0m\u001b[0;34m:\u001b[0m\u001b[0;34m\u001b[0m\u001b[0;34m\u001b[0m\u001b[0m\n\u001b[1;32m      9\u001b[0m         \u001b[0mnm\u001b[0m \u001b[0;34m=\u001b[0m \u001b[0mname\u001b[0m\u001b[0;34m[\u001b[0m\u001b[0mi\u001b[0m\u001b[0;34m]\u001b[0m\u001b[0;34m\u001b[0m\u001b[0;34m\u001b[0m\u001b[0m\n",
      "\u001b[0;31mKeyboardInterrupt\u001b[0m: "
     ]
    }
   ],
   "source": [
    "\"\"\"The below code works fine. We need to find a way to return it to the front-end guys, \n",
    "   instead of printing those values, we have to return them\"\"\"\n",
    "\n",
    "import time, random\n",
    "while True:\n",
    "    frontEnd_return=[]\n",
    "    time.sleep(5)\n",
    "    for i in range(9):\n",
    "        nm = name[i]\n",
    "        prev = current[i]\n",
    "        current[i] *= random.uniform(0.95,1.05)\n",
    "        pct_change[i] = ( (current[i] - prev) / current[i] ) * 100.0\n",
    "        frontEnd_return.append([nm,current[i],pct_change[i]])\n",
    "        with open('values.txt','w') as f:\n",
    "            for j in frontEnd_return:\n",
    "                s = \"\"\n",
    "                for k in j:\n",
    "                    s = s+str(k)+\" \"\n",
    "                f.writelines(s+\"\\n\")\n",
    " \n",
    "    print(frontEnd_return)\n",
    "    print(\"\\n\")"
   ]
  },
  {
   "cell_type": "code",
   "execution_count": null,
   "metadata": {},
   "outputs": [],
   "source": []
  }
 ],
 "metadata": {
  "kernelspec": {
   "display_name": "Python 3",
   "language": "python",
   "name": "python3"
  },
  "language_info": {
   "codemirror_mode": {
    "name": "ipython",
    "version": 3
   },
   "file_extension": ".py",
   "mimetype": "text/x-python",
   "name": "python",
   "nbconvert_exporter": "python",
   "pygments_lexer": "ipython3",
   "version": "3.7.1"
  },
  "widgets": {
   "state": {},
   "version": "1.1.2"
  }
 },
 "nbformat": 4,
 "nbformat_minor": 2
}
