{
 "cells": [
  {
   "cell_type": "code",
   "execution_count": 1,
   "metadata": {},
   "outputs": [],
   "source": [
    "import pandas as pd\n",
    "import random as rd\n",
    "import datetime\n",
    "import time\n",
    "import decimal"
   ]
  },
  {
   "cell_type": "code",
   "execution_count": 2,
   "metadata": {},
   "outputs": [],
   "source": [
    "comp_val = pd.read_excel('comp_values.xlsx')"
   ]
  },
  {
   "cell_type": "code",
   "execution_count": 3,
   "metadata": {
    "scrolled": true
   },
   "outputs": [
    {
     "data": {
      "text/html": [
       "<div>\n",
       "<style scoped>\n",
       "    .dataframe tbody tr th:only-of-type {\n",
       "        vertical-align: middle;\n",
       "    }\n",
       "\n",
       "    .dataframe tbody tr th {\n",
       "        vertical-align: top;\n",
       "    }\n",
       "\n",
       "    .dataframe thead th {\n",
       "        text-align: right;\n",
       "    }\n",
       "</style>\n",
       "<table border=\"1\" class=\"dataframe\">\n",
       "  <thead>\n",
       "    <tr style=\"text-align: right;\">\n",
       "      <th></th>\n",
       "      <th>Company</th>\n",
       "      <th>Initial</th>\n",
       "      <th>Lower</th>\n",
       "      <th>Higher</th>\n",
       "    </tr>\n",
       "  </thead>\n",
       "  <tbody>\n",
       "    <tr>\n",
       "      <th>0</th>\n",
       "      <td>Stark Industries</td>\n",
       "      <td>301.50</td>\n",
       "      <td>-10.0</td>\n",
       "      <td>10.0</td>\n",
       "    </tr>\n",
       "    <tr>\n",
       "      <th>1</th>\n",
       "      <td>Wayne Enterprises</td>\n",
       "      <td>167.33</td>\n",
       "      <td>-5.0</td>\n",
       "      <td>5.0</td>\n",
       "    </tr>\n",
       "    <tr>\n",
       "      <th>2</th>\n",
       "      <td>Big Belly Burger</td>\n",
       "      <td>174.75</td>\n",
       "      <td>-1.0</td>\n",
       "      <td>1.0</td>\n",
       "    </tr>\n",
       "    <tr>\n",
       "      <th>3</th>\n",
       "      <td>Queen Industries</td>\n",
       "      <td>305.80</td>\n",
       "      <td>-15.0</td>\n",
       "      <td>15.0</td>\n",
       "    </tr>\n",
       "    <tr>\n",
       "      <th>4</th>\n",
       "      <td>Xavier Funds</td>\n",
       "      <td>20.00</td>\n",
       "      <td>-0.1</td>\n",
       "      <td>0.1</td>\n",
       "    </tr>\n",
       "  </tbody>\n",
       "</table>\n",
       "</div>"
      ],
      "text/plain": [
       "             Company  Initial  Lower  Higher\n",
       "0   Stark Industries   301.50  -10.0    10.0\n",
       "1  Wayne Enterprises   167.33   -5.0     5.0\n",
       "2   Big Belly Burger   174.75   -1.0     1.0\n",
       "3   Queen Industries   305.80  -15.0    15.0\n",
       "4       Xavier Funds    20.00   -0.1     0.1"
      ]
     },
     "execution_count": 3,
     "metadata": {},
     "output_type": "execute_result"
    }
   ],
   "source": [
    "comp_val"
   ]
  },
  {
   "cell_type": "code",
   "execution_count": 4,
   "metadata": {},
   "outputs": [],
   "source": [
    "company = comp_val['Company']\n",
    "initial = comp_val['Initial']\n",
    "change = comp_val['Higher']"
   ]
  },
  {
   "cell_type": "code",
   "execution_count": 5,
   "metadata": {},
   "outputs": [],
   "source": [
    "company_val = dict()\n",
    "for i in range(len(company)):\n",
    "    company_val[company[i]] = [initial[i],initial[i],change[i],initial[i],initial[i],0] "
   ]
  },
  {
   "cell_type": "code",
   "execution_count": 6,
   "metadata": {},
   "outputs": [],
   "source": [
    "def company_vals():\n",
    "    global rd\n",
    "    global company_val\n",
    "    comp_rand = rd.sample(company_val.keys(),1)[0]\n",
    "    time_variation = [2.5,2.5,3,3,3,3,3,4,4,4,4]\n",
    "    start_fluc = float(decimal.Decimal(rd.randrange(\n",
    "    round(company_val[comp_rand][0]-(company_val[comp_rand][2]/100)*(company_val[comp_rand][0]))-1,\n",
    "        round(company_val[comp_rand][0]+(company_val[comp_rand][2]/100)*(company_val[comp_rand][0]))+1)))\n",
    "    company_val[comp_rand][1] = start_fluc\n",
    "    return(comp_rand,rd.sample(time_variation,1)[0],start_fluc)"
   ]
  },
  {
   "cell_type": "code",
   "execution_count": null,
   "metadata": {
    "scrolled": true
   },
   "outputs": [
    {
     "name": "stdout",
     "output_type": "stream",
     "text": [
      "Big Belly Burger   174.75   175.0   1.0   174.75   175.0   0.143\n",
      "Queen Industries   305.8   319.0   15.0   305.8   319.0   4.317\n",
      "Stark Industries   301.5   307.0   10.0   301.5   307.0   1.824\n",
      "Queen Industries   305.8   293.0   15.0   293.0   319.0   -4.186\n",
      "Xavier Funds   20.0   20.0   0.1   20.0   20.0   0.0\n",
      "Queen Industries   305.8   293.0   15.0   293.0   319.0   -4.186\n",
      "Xavier Funds   20.0   19.0   0.1   20.0   20.0   0.0\n",
      "Queen Industries   305.8   298.0   15.0   293.0   319.0   -2.551\n",
      "Big Belly Burger   174.75   176.0   1.0   174.75   175.0   0.143\n",
      "Stark Industries   301.5   314.0   10.0   301.5   307.0   1.824\n",
      "Big Belly Burger   174.75   176.0   1.0   174.75   176.0   0.715\n",
      "Big Belly Burger   174.75   175.0   1.0   174.75   176.0   0.715\n",
      "Queen Industries   305.8   343.0   15.0   293.0   319.0   -2.551\n",
      "Wayne Enterprises   167.33   159.0   5.0   159.0   167.33   -4.978\n",
      "Wayne Enterprises   167.33   166.0   5.0   159.0   167.33   -0.795\n",
      "Xavier Funds   20.0   19.0   0.1   20.0   20.0   0.0\n",
      "Stark Industries   301.5   330.0   10.0   301.5   307.0   1.824\n",
      "Queen Industries   305.8   349.0   15.0   293.0   319.0   -2.551\n",
      "Wayne Enterprises   167.33   163.0   5.0   159.0   167.33   -2.588\n",
      "Stark Industries   301.5   284.0   10.0   284.0   307.0   -5.804\n",
      "Wayne Enterprises   167.33   163.0   5.0   159.0   167.33   -2.588\n",
      "Big Belly Burger   174.75   172.0   1.0   174.75   176.0   0.715\n",
      "Xavier Funds   20.0   20.0   0.1   20.0   20.0   0.0\n"
     ]
    }
   ],
   "source": [
    "while True:\n",
    "    comp = company_vals()\n",
    "    company = comp[0]\n",
    "    timing = comp[1]\n",
    "    stock_val = comp[2]\n",
    "    time.sleep(timing)\n",
    "    passing_values = [0]*20+[1]*35\n",
    "    if rd.sample(passing_values,1)[0] == 0:\n",
    "         print(company,\" \",company_val[company][0],\" \",company_val[company][1],\" \",company_val[company][2],\" \",\n",
    "              company_val[company][3],\" \",company_val[company][4],\" \",company_val[company][5])\n",
    "         continue\n",
    "    else:\n",
    "        if stock_val>company_val[company][4]:company_val[company][4] = stock_val\n",
    "        elif stock_val<company_val[company][3]:company_val[company][3] = stock_val\n",
    "        company_val[company][5] = round(((stock_val - company_val[company][0])/company_val[company][0])*100,3)\n",
    "        print(company,\" \",company_val[company][0],\" \",company_val[company][1],\" \",company_val[company][2],\" \",\n",
    "              company_val[company][3],\" \",company_val[company][4],\" \",company_val[company][5])\n",
    "    time.sleep(timing)\n"
   ]
  },
  {
   "cell_type": "code",
   "execution_count": 91,
   "metadata": {},
   "outputs": [
    {
     "data": {
      "text/plain": [
       "{'Stark Industries': [301.5, 301.0, 10.0, 288.0, 319.0, -0.166],\n",
       " 'Wayne Enterprises': [167.33, 168.0, 5.0, 166.0, 175.0, 0.4],\n",
       " 'Big Belly Burger': [174.75, 176.0, 1.0, 174.75, 176.0, 0.715],\n",
       " 'Queen Industries': [305.8, 293.0, 15.0, 268.0, 340.0, -4.84],\n",
       " 'Xavier Funds': [20.0, 19.0, 0.1, 19.0, 20.0, -5.0]}"
      ]
     },
     "execution_count": 91,
     "metadata": {},
     "output_type": "execute_result"
    }
   ],
   "source": [
    "company_val"
   ]
  },
  {
   "cell_type": "code",
   "execution_count": null,
   "metadata": {},
   "outputs": [],
   "source": []
  }
 ],
 "metadata": {
  "kernelspec": {
   "display_name": "Python 3",
   "language": "python",
   "name": "python3"
  },
  "language_info": {
   "codemirror_mode": {
    "name": "ipython",
    "version": 3
   },
   "file_extension": ".py",
   "mimetype": "text/x-python",
   "name": "python",
   "nbconvert_exporter": "python",
   "pygments_lexer": "ipython3",
   "version": "3.7.1"
  }
 },
 "nbformat": 4,
 "nbformat_minor": 2
}
